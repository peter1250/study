{
 "cells": [
  {
   "cell_type": "code",
   "execution_count": 146,
   "id": "fe8a9e69",
   "metadata": {},
   "outputs": [],
   "source": [
    "# !pip install natsort\n",
    "import pandas as pd\n",
    "from tqdm import tqdm\n",
    "from natsort import natsorted\n",
    "import numpy as np\n",
    "import cv2\n",
    "from PIL import Image\n",
    "from os.path import join as opj\n",
    "import random\n",
    "\n",
    "df = pd.read_csv('train.csv',usecols = [1,4])\n"
   ]
  },
  {
   "cell_type": "markdown",
   "id": "931f21b7",
   "metadata": {},
   "source": [
    "# Mix"
   ]
  },
  {
   "cell_type": "code",
   "execution_count": 147,
   "id": "a8c280f8",
   "metadata": {},
   "outputs": [],
   "source": [
    "df_ = df[df['label'].str.contains('good')] \n",
    "df_bad = df[~df['label'].str.contains('good')] "
   ]
  },
  {
   "cell_type": "code",
   "execution_count": 148,
   "id": "1968b212",
   "metadata": {},
   "outputs": [],
   "source": [
    "uni = df_['label'].unique()\n",
    "df_good = pd.DataFrame(columns = ['file_name', 'label'])\n",
    "for c, lab in enumerate(uni):\n",
    "  a= df_[df_['label'].str.contains(lab)].head(10)\n",
    "  df_good= pd.concat([df_good,a])"
   ]
  },
  {
   "cell_type": "code",
   "execution_count": 149,
   "id": "fa3a08f5",
   "metadata": {},
   "outputs": [],
   "source": [
    "def mixup(img1_path,img2_path,save_name):\n",
    "  alpha = 0.3 \n",
    "  img1 = cv2.imread(img1_path)\n",
    "  img2 = cv2.imread(img2_path)\n",
    "\n",
    "  blended = img1 * alpha + img2 * (1-alpha)\n",
    "  blended = blended.astype(np.uint8)\n",
    "  dst = cv2.addWeighted(img1, alpha, img2, (1-alpha), 0)\n",
    "  cv2.imwrite('C://Users/DM_lab/Music/Untitled Folder/mixup/'+save_name, dst)"
   ]
  },
  {
   "cell_type": "code",
   "execution_count": 150,
   "id": "5505c727",
   "metadata": {},
   "outputs": [],
   "source": [
    "df_good['label'].value_counts()\n",
    "df_mixup = pd.DataFrame(columns = ['file_name', 'label'])\n",
    "idx = 0\n",
    "for i,g_row in df_good.iterrows():\n",
    "  for j,b_row in df_bad.iterrows():\n",
    "    g_label = g_row['label'].split('-')[0]\n",
    "    b_label = b_row['label'].split('-')[0]\n",
    "    if g_label == b_label:\n",
    "      a = b_row['label']\n",
    "      save_name = f'3{idx}.png'\n",
    "      img1_path ='train/'+ g_row['file_name']\n",
    "      img2_path ='train/'+ b_row['file_name']\n",
    "      mixup(img1_path,img2_path,save_name)\n",
    "      idx+=1\n",
    "      df_mixup.loc[len(df_mixup)] = [save_name] +  [b_row['label']]"
   ]
  },
  {
   "cell_type": "code",
   "execution_count": 79,
   "id": "298942f5",
   "metadata": {},
   "outputs": [],
   "source": []
  },
  {
   "cell_type": "code",
   "execution_count": 161,
   "id": "c7b7d67b",
   "metadata": {},
   "outputs": [],
   "source": [
    "aug_df = df.copy()"
   ]
  },
  {
   "cell_type": "code",
   "execution_count": 162,
   "id": "d9c2fd0a",
   "metadata": {},
   "outputs": [
    {
     "name": "stderr",
     "output_type": "stream",
     "text": [
      "100%|██████████| 88/88 [00:24<00:00,  3.62it/s]\n"
     ]
    }
   ],
   "source": [
    "def get_random_crop(image, crop_height, crop_width):\n",
    "\n",
    "    max_x = image.shape[1] - crop_width\n",
    "    max_y = image.shape[0] - crop_height\n",
    "\n",
    "    x = np.random.randint(0, max_x)\n",
    "    y = np.random.randint(0, max_y)\n",
    "\n",
    "    crop = image[y: y + crop_height, x: x + crop_width]\n",
    "\n",
    "    return crop\n",
    "oslabel = list(aug_df['label'].unique())\n",
    "\n",
    "idx = 0\n",
    "\n",
    "for label in tqdm(oslabel):\n",
    "    if 'good' not in label:\n",
    "        \n",
    "        one_sample = aug_df[aug_df['label'] == label].reset_index(drop=True)\n",
    "        images_list = natsorted(one_sample['file_name'])\n",
    "        for _, image_name in enumerate(images_list):\n",
    "            image = np.array(Image.open(opj('aug', image_name)).convert('RGB'))\n",
    "            aug_img = cv2.resize(image, dsize=(1024, 1024))\n",
    "            aug_img = get_random_crop(aug_img, 900, 900)\n",
    "            aug_img = cv2.cvtColor(aug_img, cv2.COLOR_BGR2RGB)\n",
    "            save_name = f'2{idx}.png'\n",
    "            idx += 1\n",
    "            cv2.imwrite('C://Users/DM_lab/Music/Untitled Folder/aug/'+save_name, aug_img)\n",
    "            aug_df.loc[len(aug_df)] = [save_name] + one_sample.iloc[0][1:].values.tolist()"
   ]
  },
  {
   "cell_type": "code",
   "execution_count": 163,
   "id": "80797f85",
   "metadata": {},
   "outputs": [
    {
     "name": "stderr",
     "output_type": "stream",
     "text": [
      "100%|██████████| 88/88 [00:51<00:00,  1.72it/s]\n"
     ]
    }
   ],
   "source": [
    "def rotation(img, angle):\n",
    "    angle = int(random.uniform(-angle, angle))\n",
    "    h, w = img.shape[:2]\n",
    "    M = cv2.getRotationMatrix2D((int(w/2), int(h/2)), angle, 1)\n",
    "    img = cv2.warpAffine(img, M, (w, h)) \n",
    "    return img\n",
    "\n",
    "for label in tqdm(oslabel):\n",
    "    if 'good' not in label:\n",
    "        one_sample = aug_df[aug_df['label'] == label].reset_index(drop=True)\n",
    "        images_list = natsorted(one_sample['file_name'])\n",
    "        for _, image_name in enumerate(images_list):\n",
    "            image = np.array(Image.open(opj('aug', image_name)).convert('RGB'))\n",
    "            \n",
    "            aug_img = rotation(image, 30)  \n",
    "            aug_img = cv2.resize(aug_img, dsize=(1024, 1024))\n",
    "            aug_img = cv2.cvtColor(aug_img, cv2.COLOR_BGR2RGB)\n",
    "            save_name = f'2{idx}.png'\n",
    "            idx += 1\n",
    "            cv2.imwrite('C://Users/DM_lab/Music/Untitled Folder/aug/'+save_name, aug_img)\n",
    "            aug_df.loc[len(aug_df)] = [save_name] + one_sample.iloc[0][1:].values.tolist() "
   ]
  },
  {
   "cell_type": "code",
   "execution_count": 164,
   "id": "c247d84c",
   "metadata": {},
   "outputs": [
    {
     "name": "stderr",
     "output_type": "stream",
     "text": [
      "100%|██████████| 88/88 [01:44<00:00,  1.19s/it]\n"
     ]
    }
   ],
   "source": [
    "for label in tqdm(oslabel):\n",
    "    if 'good' not in label:\n",
    "        one_sample = aug_df[aug_df['label'] == label].reset_index(drop=True)\n",
    "        images_list = natsorted(one_sample['file_name'])\n",
    "        for _, image_name in enumerate(images_list):\n",
    "            image = np.array(Image.open(opj('aug', image_name)).convert('RGB'))\n",
    "            \n",
    "            aug_img = cv2.flip(image, 1)\n",
    "            aug_img = cv2.resize(aug_img, dsize=(1024, 1024))\n",
    "            aug_img = cv2.cvtColor(aug_img, cv2.COLOR_BGR2RGB)\n",
    "            save_name = f'2{idx}.png'\n",
    "            idx += 1\n",
    "            cv2.imwrite('C://Users/DM_lab/Music/Untitled Folder/aug/'+save_name, aug_img)\n",
    "            aug_df.loc[len(aug_df)] = [save_name] + one_sample.iloc[0][1:].values.tolist()   "
   ]
  },
  {
   "cell_type": "code",
   "execution_count": 102,
   "id": "1d1350fd",
   "metadata": {},
   "outputs": [
    {
     "data": {
      "text/html": [
       "<div>\n",
       "<style scoped>\n",
       "    .dataframe tbody tr th:only-of-type {\n",
       "        vertical-align: middle;\n",
       "    }\n",
       "\n",
       "    .dataframe tbody tr th {\n",
       "        vertical-align: top;\n",
       "    }\n",
       "\n",
       "    .dataframe thead th {\n",
       "        text-align: right;\n",
       "    }\n",
       "</style>\n",
       "<table border=\"1\" class=\"dataframe\">\n",
       "  <thead>\n",
       "    <tr style=\"text-align: right;\">\n",
       "      <th></th>\n",
       "      <th>file_name</th>\n",
       "      <th>label</th>\n",
       "    </tr>\n",
       "  </thead>\n",
       "  <tbody>\n",
       "    <tr>\n",
       "      <th>0</th>\n",
       "      <td>10000.png</td>\n",
       "      <td>transistor-good</td>\n",
       "    </tr>\n",
       "    <tr>\n",
       "      <th>1</th>\n",
       "      <td>10001.png</td>\n",
       "      <td>capsule-good</td>\n",
       "    </tr>\n",
       "    <tr>\n",
       "      <th>2</th>\n",
       "      <td>10002.png</td>\n",
       "      <td>transistor-good</td>\n",
       "    </tr>\n",
       "    <tr>\n",
       "      <th>3</th>\n",
       "      <td>10003.png</td>\n",
       "      <td>wood-good</td>\n",
       "    </tr>\n",
       "    <tr>\n",
       "      <th>4</th>\n",
       "      <td>10004.png</td>\n",
       "      <td>bottle-good</td>\n",
       "    </tr>\n",
       "    <tr>\n",
       "      <th>...</th>\n",
       "      <td>...</td>\n",
       "      <td>...</td>\n",
       "    </tr>\n",
       "    <tr>\n",
       "      <th>2995</th>\n",
       "      <td>12995.png</td>\n",
       "      <td>screw-good</td>\n",
       "    </tr>\n",
       "    <tr>\n",
       "      <th>2996</th>\n",
       "      <td>12996.png</td>\n",
       "      <td>wood-good</td>\n",
       "    </tr>\n",
       "    <tr>\n",
       "      <th>2997</th>\n",
       "      <td>12997.png</td>\n",
       "      <td>zipper-good</td>\n",
       "    </tr>\n",
       "    <tr>\n",
       "      <th>2998</th>\n",
       "      <td>12998.png</td>\n",
       "      <td>tile-oil</td>\n",
       "    </tr>\n",
       "    <tr>\n",
       "      <th>2999</th>\n",
       "      <td>12999.png</td>\n",
       "      <td>tile-crack</td>\n",
       "    </tr>\n",
       "  </tbody>\n",
       "</table>\n",
       "<p>3000 rows × 2 columns</p>\n",
       "</div>"
      ],
      "text/plain": [
       "      file_name            label\n",
       "0     10000.png  transistor-good\n",
       "1     10001.png     capsule-good\n",
       "2     10002.png  transistor-good\n",
       "3     10003.png        wood-good\n",
       "4     10004.png      bottle-good\n",
       "...         ...              ...\n",
       "2995  12995.png       screw-good\n",
       "2996  12996.png        wood-good\n",
       "2997  12997.png      zipper-good\n",
       "2998  12998.png         tile-oil\n",
       "2999  12999.png       tile-crack\n",
       "\n",
       "[3000 rows x 2 columns]"
      ]
     },
     "execution_count": 102,
     "metadata": {},
     "output_type": "execute_result"
    }
   ],
   "source": [
    "train_labels = train_df[\"label\"]\n",
    "\n",
    "label_unique = sorted(np.unique(train_labels))\n",
    "label_unique = {key:value for key,value in zip(label_unique, range(len(label_unique)))}\n",
    "\n",
    "train_labels = [label_unique[k] for k in train_labels]\n",
    "train_df"
   ]
  },
  {
   "cell_type": "code",
   "execution_count": 165,
   "id": "046be6ed",
   "metadata": {},
   "outputs": [],
   "source": [
    "aug_df__ = aug_df.copy()"
   ]
  },
  {
   "cell_type": "code",
   "execution_count": 166,
   "id": "78cce326",
   "metadata": {},
   "outputs": [],
   "source": [
    "aug_df__=aug_df__.drop_duplicates(['file_name'])"
   ]
  },
  {
   "cell_type": "code",
   "execution_count": 167,
   "id": "1b936e30",
   "metadata": {},
   "outputs": [],
   "source": [
    "train_df_add_data = pd.concat([df_mixup,aug_df__])"
   ]
  },
  {
   "cell_type": "code",
   "execution_count": 168,
   "id": "1622314c",
   "metadata": {},
   "outputs": [],
   "source": [
    "train_df_add_data.to_csv('train_df_add_data.csv')\n",
    "aug_df__.to_csv('train_df_aug.csv')"
   ]
  },
  {
   "cell_type": "code",
   "execution_count": 143,
   "id": "06fc137b",
   "metadata": {},
   "outputs": [
    {
     "data": {
      "text/html": [
       "<div>\n",
       "<style scoped>\n",
       "    .dataframe tbody tr th:only-of-type {\n",
       "        vertical-align: middle;\n",
       "    }\n",
       "\n",
       "    .dataframe tbody tr th {\n",
       "        vertical-align: top;\n",
       "    }\n",
       "\n",
       "    .dataframe thead th {\n",
       "        text-align: right;\n",
       "    }\n",
       "</style>\n",
       "<table border=\"1\" class=\"dataframe\">\n",
       "  <thead>\n",
       "    <tr style=\"text-align: right;\">\n",
       "      <th></th>\n",
       "      <th>file_name</th>\n",
       "      <th>label</th>\n",
       "    </tr>\n",
       "  </thead>\n",
       "  <tbody>\n",
       "    <tr>\n",
       "      <th>0</th>\n",
       "      <td>transistor-bent_lead_0_MixUp.png</td>\n",
       "      <td>transistor-bent_lead</td>\n",
       "    </tr>\n",
       "    <tr>\n",
       "      <th>1</th>\n",
       "      <td>transistor-damaged_case_1_MixUp.png</td>\n",
       "      <td>transistor-damaged_case</td>\n",
       "    </tr>\n",
       "    <tr>\n",
       "      <th>2</th>\n",
       "      <td>transistor-misplaced_2_MixUp.png</td>\n",
       "      <td>transistor-misplaced</td>\n",
       "    </tr>\n",
       "    <tr>\n",
       "      <th>3</th>\n",
       "      <td>transistor-misplaced_3_MixUp.png</td>\n",
       "      <td>transistor-misplaced</td>\n",
       "    </tr>\n",
       "    <tr>\n",
       "      <th>4</th>\n",
       "      <td>transistor-cut_lead_4_MixUp.png</td>\n",
       "      <td>transistor-cut_lead</td>\n",
       "    </tr>\n",
       "    <tr>\n",
       "      <th>...</th>\n",
       "      <td>...</td>\n",
       "      <td>...</td>\n",
       "    </tr>\n",
       "    <tr>\n",
       "      <th>6163</th>\n",
       "      <td>wood-liquid_7_flip1.png</td>\n",
       "      <td>wood-liquid</td>\n",
       "    </tr>\n",
       "    <tr>\n",
       "      <th>6164</th>\n",
       "      <td>wood-liquid_8_flip1.png</td>\n",
       "      <td>wood-liquid</td>\n",
       "    </tr>\n",
       "    <tr>\n",
       "      <th>6165</th>\n",
       "      <td>wood-liquid_9_flip1.png</td>\n",
       "      <td>wood-liquid</td>\n",
       "    </tr>\n",
       "    <tr>\n",
       "      <th>6166</th>\n",
       "      <td>wood-liquid_10_flip1.png</td>\n",
       "      <td>wood-liquid</td>\n",
       "    </tr>\n",
       "    <tr>\n",
       "      <th>6167</th>\n",
       "      <td>wood-liquid_11_flip1.png</td>\n",
       "      <td>wood-liquid</td>\n",
       "    </tr>\n",
       "  </tbody>\n",
       "</table>\n",
       "<p>10644 rows × 2 columns</p>\n",
       "</div>"
      ],
      "text/plain": [
       "                                file_name                    label\n",
       "0        transistor-bent_lead_0_MixUp.png     transistor-bent_lead\n",
       "1     transistor-damaged_case_1_MixUp.png  transistor-damaged_case\n",
       "2        transistor-misplaced_2_MixUp.png     transistor-misplaced\n",
       "3        transistor-misplaced_3_MixUp.png     transistor-misplaced\n",
       "4         transistor-cut_lead_4_MixUp.png      transistor-cut_lead\n",
       "...                                   ...                      ...\n",
       "6163              wood-liquid_7_flip1.png              wood-liquid\n",
       "6164              wood-liquid_8_flip1.png              wood-liquid\n",
       "6165              wood-liquid_9_flip1.png              wood-liquid\n",
       "6166             wood-liquid_10_flip1.png              wood-liquid\n",
       "6167             wood-liquid_11_flip1.png              wood-liquid\n",
       "\n",
       "[10644 rows x 2 columns]"
      ]
     },
     "execution_count": 143,
     "metadata": {},
     "output_type": "execute_result"
    }
   ],
   "source": [
    "train_df_add_data"
   ]
  }
 ],
 "metadata": {
  "kernelspec": {
   "display_name": "park",
   "language": "python",
   "name": "park"
  },
  "language_info": {
   "codemirror_mode": {
    "name": "ipython",
    "version": 3
   },
   "file_extension": ".py",
   "mimetype": "text/x-python",
   "name": "python",
   "nbconvert_exporter": "python",
   "pygments_lexer": "ipython3",
   "version": "3.8.13"
  }
 },
 "nbformat": 4,
 "nbformat_minor": 5
}
